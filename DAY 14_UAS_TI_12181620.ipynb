{
 "cells": [
  {
   "cell_type": "code",
   "execution_count": 1,
   "metadata": {},
   "outputs": [
    {
     "data": {
      "application/vnd.jupyter.widget-view+json": {
       "model_id": "db2972e0-d5ba-4f72-8f58-511022535cca",
       "version_major": 2,
       "version_minor": 0
      },
      "method": "display_data"
     },
     "metadata": {},
     "output_type": "display_data"
    }
   ],
   "source": [
    "%classpath add jar libs/*"
   ]
  },
  {
   "cell_type": "code",
   "execution_count": 2,
   "metadata": {},
   "outputs": [
    {
     "name": "stdout",
     "output_type": "stream",
     "text": [
      "                                                                             12181620.csv                                                                              \n",
      " _id  |  idx  |                        series                        |  kode_wilayah  |   wilayah   |  tahun  |  triwulan  |  bulan  |  tanggal  |  nilai  |  target  |\n",
      "-----------------------------------------------------------------------------------------------------------------------------------------------------------------------\n",
      "   1  |    0  |  Produksi Daging Ayam Ras Petelur menurut Provinsi_  |             1  |  Indonesia  |   2000  |            |         |           |  23745  |          |\n",
      "   2  |    1  |  Produksi Daging Ayam Ras Petelur menurut Provinsi_  |             1  |  Indonesia  |   2001  |            |         |           |  88299  |          |\n",
      "   3  |    2  |  Produksi Daging Ayam Ras Petelur menurut Provinsi_  |             1  |  Indonesia  |   2002  |            |         |           |  42773  |          |\n",
      "   4  |    3  |  Produksi Daging Ayam Ras Petelur menurut Provinsi_  |             1  |  Indonesia  |   2003  |            |         |           |  48146  |          |\n",
      "   5  |    4  |  Produksi Daging Ayam Ras Petelur menurut Provinsi_  |             1  |  Indonesia  |   2004  |            |         |           |  48376  |          |\n",
      "                                                                                12181620.json                                                                                 \n",
      " kode_wilayah  |  tahun  |                        series                        |  nilai  |  _id  |      wilayah       |  tanggal  |  idx  |  bulan  |  triwulan  |  target  |\n",
      "------------------------------------------------------------------------------------------------------------------------------------------------------------------------------\n",
      "           65  |   2003  |  Produksi Daging Ayam Ras Petelur menurut Provinsi_  |         |  412  |  Kalimantan Utara  |           |  411  |         |            |          |\n",
      "           65  |   2004  |  Produksi Daging Ayam Ras Petelur menurut Provinsi_  |         |  413  |  Kalimantan Utara  |           |  412  |         |            |          |\n",
      "           65  |   2005  |  Produksi Daging Ayam Ras Petelur menurut Provinsi_  |         |  414  |  Kalimantan Utara  |           |  413  |         |            |          |\n",
      "           65  |   2006  |  Produksi Daging Ayam Ras Petelur menurut Provinsi_  |         |  415  |  Kalimantan Utara  |           |  414  |         |            |          |\n",
      "           65  |   2007  |  Produksi Daging Ayam Ras Petelur menurut Provinsi_  |         |  416  |  Kalimantan Utara  |           |  415  |         |            |          |\n",
      "                                                                            12181620.csv                                                                             \n",
      " _id  |  idx  |                        series                        |  kode_wilayah  |  wilayah  |  tahun  |  triwulan  |  bulan  |  tanggal  |  nilai  |  target  |\n",
      "---------------------------------------------------------------------------------------------------------------------------------------------------------------------\n",
      " 591  |  590  |  Produksi Daging Ayam Ras Petelur menurut Provinsi_  |            94  |    Papua  |   2012  |            |         |           |     16  |          |\n",
      " 592  |  591  |  Produksi Daging Ayam Ras Petelur menurut Provinsi_  |            94  |    Papua  |   2013  |            |         |           |     91  |          |\n",
      " 593  |  592  |  Produksi Daging Ayam Ras Petelur menurut Provinsi_  |            94  |    Papua  |   2014  |            |         |           |    205  |          |\n",
      " 594  |  593  |  Produksi Daging Ayam Ras Petelur menurut Provinsi_  |            94  |    Papua  |   2015  |            |         |           |    263  |          |\n",
      " 595  |  594  |  Produksi Daging Ayam Ras Petelur menurut Provinsi_  |            94  |    Papua  |   2016  |            |         |           |    172  |          |\n",
      "               12181620.csv summary                \n",
      "  Mean [nilai]    |  Max [nilai]  |  Min [nilai]  |\n",
      "---------------------------------------------------\n",
      " 3990.6423357664  |       105739  |            2  |"
     ]
    },
    {
     "data": {
      "text/plain": [
       "null"
      ]
     },
     "execution_count": 2,
     "metadata": {},
     "output_type": "execute_result"
    }
   ],
   "source": [
    "import tech.tablesaw.api.*;\n",
    "import tech.tablesaw.io.json.*;\n",
    "import static tech.tablesaw.aggregate.AggregateFunctions.*;\n",
    "\n",
    "// display Tablesaw tables with BeakerX table display widget\n",
    "tech.tablesaw.beakerx.TablesawDisplayer.register();\n",
    "\n",
    "//init objek\n",
    "Table dfSmallgrade = Table.read().csv(\"datasets/12181620/12181620.csv\");\n",
    "\n",
    "System.out.println(dfSmallgrade.first(5));\n",
    "\n",
    "//init objek JsonReader \n",
    "JsonReader reader = new JsonReader();\n",
    "\n",
    "//membaca file product.json\n",
    "JsonReadOptions fileJSON = JsonReadOptions.builder(\"datasets/12181620/12181620.json\").build();\n",
    "\n",
    "//memasukan data fileJSON ke dataframe \n",
    "Table tabeljson = reader.read(fileJSON);\n",
    "\n",
    "//menampilkan 4 data terkhir pada dataframe tabeljson\n",
    "System.out.println(tabeljson.first(5));\n",
    "                   \n",
    "//menggabungkan data pada dataframedata1 dan dataframedata2 untuk disimpan di df datagabung\n",
    "Table datagabung = dfSmallgrade.append(tabeljson);\n",
    "\n",
    "//menampilkan gabungan data yang ada di dataframe datagabung\n",
    "System.out.println(datagabung.last(5)); \n",
    "\n",
    "//menampilkan summary data yang ada di dataframe datagabung kolom \"grade\"\n",
    "System.out.print(datagabung.summarize(\"nilai\", mean, max, min).apply());"
   ]
  },
  {
   "cell_type": "code",
   "execution_count": null,
   "metadata": {},
   "outputs": [],
   "source": []
  }
 ],
 "metadata": {
  "kernelspec": {
   "display_name": "Java",
   "language": "java",
   "name": "java"
  },
  "language_info": {
   "codemirror_mode": "text/x-java",
   "file_extension": ".java",
   "mimetype": "",
   "name": "Java",
   "nbconverter_exporter": "",
   "version": "1.8.0_121"
  },
  "toc": {
   "base_numbering": 1,
   "nav_menu": {},
   "number_sections": false,
   "sideBar": false,
   "skip_h1_title": false,
   "title_cell": "Table of Contents",
   "title_sidebar": "Contents",
   "toc_cell": false,
   "toc_position": {},
   "toc_section_display": false,
   "toc_window_display": false
  }
 },
 "nbformat": 4,
 "nbformat_minor": 2
}
